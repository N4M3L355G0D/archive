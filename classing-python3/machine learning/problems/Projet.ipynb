{
 "cells": [
  {
   "cell_type": "code",
   "execution_count": 13,
   "metadata": {},
   "outputs": [
    {
     "name": "stderr",
     "output_type": "stream",
     "text": [
      "/usr/lib/python3/dist-packages/scipy/sparse/compressed.py:774: SparseEfficiencyWarning: Changing the sparsity structure of a csr_matrix is expensive. lil_matrix is more efficient.\n",
      "  SparseEfficiencyWarning)\n"
     ]
    },
    {
     "name": "stdout",
     "output_type": "stream",
     "text": [
      "[<10000x1 sparse matrix of type '<class 'numpy.float64'>'\n",
      "\twith 200 stored elements (blocksize = 100x1) in Block Sparse Row format>, <10000x1 sparse matrix of type '<class 'numpy.float64'>'\n",
      "\twith 300 stored elements in Compressed Sparse Row format>, <10000x1 sparse matrix of type '<class 'numpy.float64'>'\n",
      "\twith 19 stored elements in Compressed Sparse Row format>, <10000x1 sparse matrix of type '<class 'numpy.float64'>'\n",
      "\twith 27 stored elements in Compressed Sparse Row format>, <10000x1 sparse matrix of type '<class 'numpy.float64'>'\n",
      "\twith 36 stored elements in Compressed Sparse Row format>, <10000x1 sparse matrix of type '<class 'numpy.float64'>'\n",
      "\twith 46 stored elements in Compressed Sparse Row format>, <10000x1 sparse matrix of type '<class 'numpy.float64'>'\n",
      "\twith 57 stored elements in Compressed Sparse Row format>, <10000x1 sparse matrix of type '<class 'numpy.float64'>'\n",
      "\twith 69 stored elements in Compressed Sparse Row format>, <10000x1 sparse matrix of type '<class 'numpy.float64'>'\n",
      "\twith 82 stored elements in Compressed Sparse Row format>, <10000x1 sparse matrix of type '<class 'numpy.float64'>'\n",
      "\twith 96 stored elements in Compressed Sparse Row format>, <10000x1 sparse matrix of type '<class 'numpy.float64'>'\n",
      "\twith 111 stored elements in Compressed Sparse Row format>, <10000x1 sparse matrix of type '<class 'numpy.float64'>'\n",
      "\twith 127 stored elements in Compressed Sparse Row format>, <10000x1 sparse matrix of type '<class 'numpy.float64'>'\n",
      "\twith 144 stored elements in Compressed Sparse Row format>, <10000x1 sparse matrix of type '<class 'numpy.float64'>'\n",
      "\twith 162 stored elements in Compressed Sparse Row format>, <10000x1 sparse matrix of type '<class 'numpy.float64'>'\n",
      "\twith 181 stored elements in Compressed Sparse Row format>, <10000x1 sparse matrix of type '<class 'numpy.float64'>'\n",
      "\twith 201 stored elements in Compressed Sparse Row format>, <10000x1 sparse matrix of type '<class 'numpy.float64'>'\n",
      "\twith 222 stored elements in Compressed Sparse Row format>, <10000x1 sparse matrix of type '<class 'numpy.float64'>'\n",
      "\twith 244 stored elements in Compressed Sparse Row format>, <10000x1 sparse matrix of type '<class 'numpy.float64'>'\n",
      "\twith 267 stored elements in Compressed Sparse Row format>, <10000x1 sparse matrix of type '<class 'numpy.float64'>'\n",
      "\twith 291 stored elements in Compressed Sparse Row format>, <10000x1 sparse matrix of type '<class 'numpy.float64'>'\n",
      "\twith 316 stored elements in Compressed Sparse Row format>, <10000x1 sparse matrix of type '<class 'numpy.float64'>'\n",
      "\twith 342 stored elements in Compressed Sparse Row format>, <10000x1 sparse matrix of type '<class 'numpy.float64'>'\n",
      "\twith 369 stored elements in Compressed Sparse Row format>, <10000x1 sparse matrix of type '<class 'numpy.float64'>'\n",
      "\twith 397 stored elements in Compressed Sparse Row format>, <10000x1 sparse matrix of type '<class 'numpy.float64'>'\n",
      "\twith 426 stored elements in Compressed Sparse Row format>, <10000x1 sparse matrix of type '<class 'numpy.float64'>'\n",
      "\twith 456 stored elements in Compressed Sparse Row format>, <10000x1 sparse matrix of type '<class 'numpy.float64'>'\n",
      "\twith 487 stored elements in Compressed Sparse Row format>, <10000x1 sparse matrix of type '<class 'numpy.float64'>'\n",
      "\twith 519 stored elements in Compressed Sparse Row format>, <10000x1 sparse matrix of type '<class 'numpy.float64'>'\n",
      "\twith 552 stored elements in Compressed Sparse Row format>, <10000x1 sparse matrix of type '<class 'numpy.float64'>'\n",
      "\twith 586 stored elements in Compressed Sparse Row format>, <10000x1 sparse matrix of type '<class 'numpy.float64'>'\n",
      "\twith 621 stored elements in Compressed Sparse Row format>, <10000x1 sparse matrix of type '<class 'numpy.float64'>'\n",
      "\twith 657 stored elements in Compressed Sparse Row format>, <10000x1 sparse matrix of type '<class 'numpy.float64'>'\n",
      "\twith 694 stored elements in Compressed Sparse Row format>, <10000x1 sparse matrix of type '<class 'numpy.float64'>'\n",
      "\twith 732 stored elements in Compressed Sparse Row format>, <10000x1 sparse matrix of type '<class 'numpy.float64'>'\n",
      "\twith 771 stored elements in Compressed Sparse Row format>, <10000x1 sparse matrix of type '<class 'numpy.float64'>'\n",
      "\twith 811 stored elements in Compressed Sparse Row format>, <10000x1 sparse matrix of type '<class 'numpy.float64'>'\n",
      "\twith 852 stored elements in Compressed Sparse Row format>, <10000x1 sparse matrix of type '<class 'numpy.float64'>'\n",
      "\twith 894 stored elements in Compressed Sparse Row format>, <10000x1 sparse matrix of type '<class 'numpy.float64'>'\n",
      "\twith 937 stored elements in Compressed Sparse Row format>, <10000x1 sparse matrix of type '<class 'numpy.float64'>'\n",
      "\twith 981 stored elements in Compressed Sparse Row format>, <10000x1 sparse matrix of type '<class 'numpy.float64'>'\n",
      "\twith 1026 stored elements in Compressed Sparse Row format>, <10000x1 sparse matrix of type '<class 'numpy.float64'>'\n",
      "\twith 1072 stored elements in Compressed Sparse Row format>, <10000x1 sparse matrix of type '<class 'numpy.float64'>'\n",
      "\twith 1119 stored elements in Compressed Sparse Row format>, <10000x1 sparse matrix of type '<class 'numpy.float64'>'\n",
      "\twith 1167 stored elements in Compressed Sparse Row format>, <10000x1 sparse matrix of type '<class 'numpy.float64'>'\n",
      "\twith 1216 stored elements in Compressed Sparse Row format>, <10000x1 sparse matrix of type '<class 'numpy.float64'>'\n",
      "\twith 1266 stored elements in Compressed Sparse Row format>, <10000x1 sparse matrix of type '<class 'numpy.float64'>'\n",
      "\twith 1317 stored elements in Compressed Sparse Row format>, <10000x1 sparse matrix of type '<class 'numpy.float64'>'\n",
      "\twith 1369 stored elements in Compressed Sparse Row format>, <10000x1 sparse matrix of type '<class 'numpy.float64'>'\n",
      "\twith 1422 stored elements in Compressed Sparse Row format>, <10000x1 sparse matrix of type '<class 'numpy.float64'>'\n",
      "\twith 1476 stored elements in Compressed Sparse Row format>]\n",
      "[[ 0.99988707]\n",
      " [-0.81362728]\n",
      " [ 2.00146711]\n",
      " ..., \n",
      " [ 1.        ]\n",
      " [ 1.        ]\n",
      " [ 1.        ]]\n",
      "  (0, 0)\t0.0\n",
      "  (1, 0)\t1.0\n",
      "  (2, 0)\t0.0\n",
      "  (3, 0)\t-15.0\n",
      "  (4, 0)\t4.0\n",
      "  (5, 0)\t0.0\n",
      "  (6, 0)\t0.0\n",
      "  (7, 0)\t0.0\n",
      "  (8, 0)\t0.0\n",
      "  (9, 0)\t0.0\n",
      "  (10, 0)\t0.0\n",
      "  (11, 0)\t0.0\n",
      "  (12, 0)\t0.0\n",
      "  (13, 0)\t0.0\n",
      "  (14, 0)\t0.0\n",
      "  (15, 0)\t0.0\n",
      "  (16, 0)\t0.0\n",
      "  (17, 0)\t0.0\n",
      "  (18, 0)\t0.0\n",
      "  (19, 0)\t0.0\n",
      "  (20, 0)\t0.0\n",
      "  (21, 0)\t0.0\n",
      "  (22, 0)\t0.0\n",
      "  (23, 0)\t0.0\n",
      "  (24, 0)\t0.0\n",
      "  :\t:\n",
      "  (4602, 49)\t9.51385141498e-199\n",
      "  (4603, 49)\t3.80453900002e-198\n",
      "  (4604, 49)\t2.67086001687e-202\n",
      "  (4605, 49)\t6.96704237618e-207\n",
      "  (4606, 49)\t8.00522415546e-212\n",
      "  (4607, 49)\t3.41925162652e-217\n",
      "  (4700, 49)\t1.27745712246e-213\n",
      "  (4701, 49)\t7.41223689017e-209\n",
      "  (4702, 49)\t1.42095742739e-204\n",
      "  (4703, 49)\t5.68271795068e-204\n",
      "  (4704, 49)\t2.96470314187e-208\n",
      "  (4705, 49)\t5.10971936479e-213\n",
      "  (4706, 49)\t2.91000138428e-218\n",
      "  (4800, 49)\t4.54687716293e-220\n",
      "  (4801, 49)\t5.32279863528e-215\n",
      "  (4802, 49)\t1.54432247158e-210\n",
      "  (4803, 49)\t6.17649149379e-210\n",
      "  (4804, 49)\t2.12905125096e-214\n",
      "  (4805, 49)\t1.81875086517e-219\n",
      "  (4901, 49)\t1.85586822977e-221\n",
      "  (4902, 49)\t1.08632255314e-216\n",
      "  (4903, 49)\t4.34501183231e-216\n",
      "  (4904, 49)\t7.42347291907e-221\n",
      "  (5002, 49)\t3.71173645954e-223\n",
      "  (5003, 49)\t1.48469458381e-222\n",
      "  (0, 0)\t-0.25\n",
      "  (1, 0)\t1.0\n",
      "  (2, 0)\t3.25\n",
      "  (3, 0)\t-17.0\n",
      "  (4, 0)\t7.75\n",
      "  (5, 0)\t-1.0\n",
      "  (101, 0)\t-0.5\n",
      "  (103, 0)\t7.5\n",
      "  (104, 0)\t-2.0\n",
      "  (202, 0)\t-0.25\n",
      "  (203, 0)\t-1.0\n",
      "  (0, 1)\t-0.0119606398121\n",
      "  (1, 1)\t0.0499888249491\n",
      "  (2, 1)\t0.154497733388\n",
      "  (3, 1)\t-0.82966814602\n",
      "  (4, 1)\t0.37441197613\n",
      "  (5, 1)\t-0.0466043290365\n",
      "  (6, 1)\t-0.000330194723181\n",
      "  (100, 1)\t-0.000247646042386\n",
      "  (101, 1)\t-0.0242514743474\n",
      "  (102, 1)\t0.00330194723181\n",
      "  (103, 1)\t0.362121141595\n",
      "  (104, 1)\t-0.0932912067537\n",
      "  (105, 1)\t-0.000990584169543\n",
      "  (201, 1)\t-0.000247646042386\n",
      "  :\t:\n",
      "  (4702, 49)\t-4.80373278865e-205\n",
      "  (4703, 49)\t-1.92097670472e-204\n",
      "  (4704, 49)\t-1.37710447745e-208\n",
      "  (4705, 49)\t-3.66668989236e-213\n",
      "  (4706, 49)\t-4.29863744794e-218\n",
      "  (4707, 49)\t-1.87261532268e-223\n",
      "  (4800, 49)\t-6.71676974879e-220\n",
      "  (4801, 49)\t-3.81972610845e-215\n",
      "  (4802, 49)\t-7.17389919983e-211\n",
      "  (4803, 49)\t-2.86898676132e-210\n",
      "  (4804, 49)\t-1.52778969418e-214\n",
      "  (4805, 49)\t-2.68664938029e-219\n",
      "  (4806, 49)\t-1.5605127689e-224\n",
      "  (4900, 49)\t-2.3885399524e-226\n",
      "  (4901, 49)\t-2.74157052017e-221\n",
      "  (4902, 49)\t-7.79590770239e-217\n",
      "  (4903, 49)\t-3.11795185971e-216\n",
      "  (4904, 49)\t-1.09659237997e-220\n",
      "  (4905, 49)\t-9.5541598096e-226\n",
      "  (5001, 49)\t-9.5541598096e-228\n",
      "  (5002, 49)\t-5.48333212354e-223\n",
      "  (5003, 49)\t-2.19318953702e-222\n",
      "  (5004, 49)\t-3.82166392384e-227\n",
      "  (5102, 49)\t-1.87336466855e-229\n",
      "  (5103, 49)\t-7.4934586742e-229\n",
      "  (0, 0)\t4.0\n",
      "  (0, 1)\t-110.510927348\n",
      "  (0, 2)\t-1914.765294\n",
      "  (0, 3)\t-3718.37735581\n",
      "  (0, 4)\t-5521.96737255\n",
      "  (0, 5)\t-7325.54972772\n",
      "  (0, 6)\t-9129.12819656\n",
      "  (0, 7)\t-10932.7043182\n",
      "  (0, 8)\t-12736.27887\n",
      "  (0, 9)\t-14539.8522988\n",
      "  (0, 10)\t-16343.4248849\n",
      "  (0, 11)\t-18146.9968159\n",
      "  (0, 12)\t-19950.5682231\n",
      "  (0, 13)\t-21754.1392021\n",
      "  (0, 14)\t-23557.7098248\n",
      "  (0, 15)\t-25361.2801463\n",
      "  (0, 16)\t-27164.8502102\n",
      "  (0, 17)\t-28968.4200511\n",
      "  (0, 18)\t-30771.9896972\n",
      "  (0, 19)\t-32575.5591718\n",
      "  (0, 20)\t-34379.1284942\n",
      "  (0, 21)\t-36182.6976807\n",
      "  (0, 22)\t-37986.266745\n",
      "  (0, 23)\t-39789.8356991\n",
      "  (0, 24)\t-41593.4045532\n",
      "  :\t:\n",
      "  (43, 46)\t-3949.91567952\n",
      "  (43, 47)\t-4037.57153305\n",
      "  (43, 48)\t-4125.22738555\n",
      "  (43, 49)\t-4212.88323705\n",
      "  (44, 44)\t1756325.29413\n",
      "  (44, 45)\t-3862.26003024\n",
      "  (44, 46)\t-3949.91588943\n",
      "  (44, 47)\t-4037.57174753\n",
      "  (44, 48)\t-4125.22760459\n",
      "  (44, 49)\t-4212.88346066\n",
      "  (45, 45)\t1800973.78056\n",
      "  (45, 46)\t-3949.91608938\n",
      "  (45, 47)\t-4037.57195183\n",
      "  (45, 48)\t-4125.22781324\n",
      "  (45, 49)\t-4212.88367366\n",
      "  (46, 46)\t1845797.57839\n",
      "  (46, 47)\t-4037.57214663\n",
      "  (46, 48)\t-4125.22801219\n",
      "  (46, 49)\t-4212.88387676\n",
      "  (47, 47)\t1890796.68762\n",
      "  (47, 48)\t-4125.22820209\n",
      "  (47, 49)\t-4212.88407061\n",
      "  (48, 48)\t1935971.1083\n",
      "  (48, 49)\t-4212.88425583\n",
      "  (49, 49)\t1981320.84044\n"
     ]
    },
    {
     "name": "stdout",
     "output_type": "stream",
     "text": [
      "[[ -2.64673539e+42]\n",
      " [  4.97516170e+42]\n",
      " [ -6.70999631e+42]\n",
      " ..., \n",
      " [  6.95496108e+39]\n",
      " [ -5.68381942e+39]\n",
      " [  3.21182147e+39]]\n",
      "[[ -2.64673539e+42   4.97516170e+42  -6.70999631e+42 ...,   6.95496108e+39\n",
      "   -5.68381942e+39   3.21182147e+39]\n",
      " [  4.70916071e+42  -8.85184184e+42   1.19378526e+43 ...,  -1.22971665e+40\n",
      "    1.00551167e+40  -5.68381942e+39]\n",
      " [ -5.81393868e+42   1.09282414e+43  -1.47369009e+43 ...,   1.50255097e+40\n",
      "   -1.22971665e+40   6.95496108e+39]\n",
      " ..., \n",
      " [  6.95496108e+39  -1.22971665e+40   1.50255097e+40 ...,   1.50255097e+40\n",
      "   -1.22971665e+40   6.95496108e+39]\n",
      " [ -5.68381942e+39   1.00551167e+40  -1.22971665e+40 ...,  -1.22971665e+40\n",
      "    1.00551167e+40  -5.68381942e+39]\n",
      " [  3.21182147e+39  -5.68381942e+39   6.95496108e+39 ...,   6.95496108e+39\n",
      "   -5.68381942e+39   3.21182147e+39]]\n",
      "[ 1.  1.  1. ...,  1.  1.  1.]\n"
     ]
    },
    {
     "data": {
      "image/png": "[encoded data removed]",
      "text/plain": [
       "<matplotlib.figure.Figure at 0x7f50166d7c18>"
      ]
     },
     "metadata": {},
     "output_type": "display_data"
    }
   ],
   "source": [
    "%matplotlib inline\n",
    "from matplotlib.pyplot import *\n",
    "from numpy import *\n",
    "from scipy import *\n",
    "from scipy.linalg import *\n",
    "from scipy.sparse import *\n",
    "from scipy.sparse.linalg import *\n",
    "\n",
    "## Question (a)\n",
    "\n",
    "m=100\n",
    "#Matrice K avec I et DTD\n",
    "I = diag(ones(m))\n",
    "DTD = diags([-1,2,-1],[-1,0,1], shape=(m,m))\n",
    "K = kron(I,DTD)+kron(DTD,I)\n",
    "K=csr_matrix(K)\n",
    "\n",
    "#Membre de droite f avec e1 et en\n",
    "e1=zeros(m)\n",
    "e1[0]=1\n",
    "e1=csr_matrix(e1)\n",
    "en=zeros(m)\n",
    "en[m-1]=1\n",
    "en=csr_matrix(en)\n",
    "#Potentiels haut, bas, droite et gauche\n",
    "h=b=d=g=zeros(m)\n",
    "for i in range(m):\n",
    "    h[i], b[i], d[i], g[i] = 1,1,1,1\n",
    "h=csr_matrix(h)\n",
    "b=csr_matrix(b)\n",
    "d=csr_matrix(d)\n",
    "g=csr_matrix(g)\n",
    "f=kron(e1,h)+kron(g,e1)+kron(en,b)+kron(d,en)\n",
    "f=f.transpose()\n",
    "\n",
    "## Question (b)\n",
    "\n",
    "#v0 : vecteur de taille m\n",
    "%matplotlib inline\n",
    "from matplotlib.pyplot import *\n",
    "from numpy import *\n",
    "from scipy import *\n",
    "from scipy.linalg import *\n",
    "from scipy.sparse import *\n",
    "from scipy.sparse.linalg import *\n",
    "#k : nombre d'iterations de l'algo\n",
    "m=100\n",
    "v0=ones((m*m,1))\n",
    "v0[2,0]=2\n",
    "v0[3,0]=5\n",
    "v0=csr_matrix(v0)\n",
    "def resolution(K, f, v0, k):\n",
    "    r=[f-K*v0]\n",
    "    Vk=r[0]\n",
    "    Mk=K*Vk\n",
    "    #On fait la décompostion QR :\n",
    "    norme=linalg.norm(Mk[1,0])\n",
    "    Q=Mk[:,0]/norme\n",
    "    #On a donc M1 et Q1\n",
    "    R=[norme]\n",
    "    R=csr_matrix(R)\n",
    "    #Maintenant qu'on a M1, Q1 et R1, trouvons alpha :\n",
    "    alpha=R*transpose(Q)*f\n",
    "    qk=transpose(Q)*K*r[0]\n",
    "    qk=Q*qk\n",
    "    qk=K*r[0]-qk\n",
    "    S=norm(qk)\n",
    "    qk=qk/S\n",
    "    #On augmente maintenant le sev en calculant le residu :\n",
    "    for i in range(1,k):\n",
    "        r.append(r[i-1]-(qk*(transpose(qk)*r[0])))\n",
    "        r[i]=csr_matrix(r[i])\n",
    "        #On crée Vk+1\n",
    "        Vk=hstack([Vk,r[i]])\n",
    "        #Et le nouveau Q\n",
    "        qk=transpose(Q)*K*r[i]\n",
    "        qk=Q*qk\n",
    "        qk=K*r[i]-qk\n",
    "        S=norm(qk)\n",
    "        qk=qk/S\n",
    "        transQ=transpose(Q)\n",
    "        Q=hstack([Q,qk])\n",
    "        #Ainsi que le nouveau R\n",
    "        R=hstack([R,transQ*K*r[i]])\n",
    "        ligne=zeros((1,i+1))\n",
    "        ligne=csr_matrix(ligne)\n",
    "        R=vstack([R,ligne], format=\"csr\")\n",
    "        R[i,i]=S\n",
    "    #On resoud le systeme :\n",
    "    alpha=solve_triangular(R.todense(),(transpose(Q)*f).todense())\n",
    "    vs=v0+Vk*alpha\n",
    "    return r, vs, Vk, Q, R\n",
    "r,vs,Vk,Q,R=resolution(K, f, v0, 50)\n",
    "\n",
    "#Liste des résidus successifs :\n",
    "\n",
    "print(r)\n",
    "\n",
    "#Approximation vk :\n",
    "\n",
    "print(vs)\n",
    "\n",
    "#Matrice Vk :\n",
    "\n",
    "print(Vk)\n",
    "\n",
    "#Matrice Qk :\n",
    "\n",
    "print(Q)\n",
    "\n",
    "#atrice Rk :\n",
    "\n",
    "print(R)\n",
    "\n",
    "## Question (c)\n",
    "\n",
    "def restarting(K, f, v0, k1, k2):\n",
    "    r, vs, V, Q, R=resolution(K, f, v0, k2)\n",
    "    for i in range(k1):\n",
    "        r, vs, V, Q, R=resolution(K, f, r[0], k2)\n",
    "    return r, vs, V, Q, R\n",
    "r, vs, V, Q, R=restarting(K, f, v0, 50, 25)\n",
    "print(vs)\n",
    "\n",
    "vs=vs.reshape(m,m)\n",
    "\n",
    "## Question (d)\n",
    "\n",
    "#Avec la fonction contour :\n",
    "\n",
    "contour(vs)\n",
    "\n",
    "#Avec la fonction contourf :\n",
    "\n",
    "contourf(vs)\n",
    "\n",
    "## Question (e)\n",
    "#Solutions obtenues :\n",
    "\n",
    "print(vs)\n",
    "\n",
    "#Solutions \"exactes\" (avec spsolve) :\n",
    "\n",
    "print(spsolve(K,f))"
   ]
  },
  {
   "cell_type": "code",
   "execution_count": null,
   "metadata": {},
   "outputs": [],
   "source": [
    "\n",
    "\n"
   ]
  }
 ],
 "metadata": {
  "anaconda-cloud": {},
  "kernelspec": {
   "display_name": "Python 3",
   "language": "python",
   "name": "python3"
  },
  "language_info": {
   "codemirror_mode": {
    "name": "ipython",
    "version": 3
   },
   "file_extension": ".py",
   "mimetype": "text/x-python",
   "name": "python",
   "nbconvert_exporter": "python",
   "pygments_lexer": "ipython3",
   "version": "3.6.5rc1"
  },
  "nbpresent": {
   "slides": {
    "0168c9d2-f8fd-473f-b518-329e2b868aca": {
     "id": "0168c9d2-f8fd-473f-b518-329e2b868aca",
     "prev": "908c709b-b73f-41a4-9711-7b3afe9fb9ea",
     "regions": {
      "d4bc2915-f918-48c3-9b84-23cde6a6ca9f": {
       "attrs": {
        "height": 0.8,
        "width": 0.8,
        "x": 0.1,
        "y": 0.1
       },
       "content": {
        "cell": "60e5e341-ddf5-45aa-a99e-5794382ee075",
        "part": "whole"
       },
       "id": "d4bc2915-f918-48c3-9b84-23cde6a6ca9f"
      }
     }
    },
    "2aaf1088-7382-4117-b825-21b6f8c57e40": {
     "id": "2aaf1088-7382-4117-b825-21b6f8c57e40",
     "prev": "0168c9d2-f8fd-473f-b518-329e2b868aca",
     "regions": {
      "72100a90-718e-44b5-b369-2c2650db92d5": {
       "attrs": {
        "height": 0.8,
        "width": 0.8,
        "x": 0.1,
        "y": 0.1
       },
       "content": {
        "cell": "eaff6567-d347-4a94-85a2-ca345109397b",
        "part": "whole"
       },
       "id": "72100a90-718e-44b5-b369-2c2650db92d5"
      }
     }
    },
    "2f5a310b-09c5-4233-89ed-d2d22a831356": {
     "id": "2f5a310b-09c5-4233-89ed-d2d22a831356",
     "prev": null,
     "regions": {
      "8b06ef90-4d07-4293-b81c-1f4d675190c3": {
       "attrs": {
        "height": 0.8,
        "width": 0.8,
        "x": 0.1,
        "y": 0.1
       },
       "content": {
        "cell": "c7d17a6c-ace9-40fb-9abe-e32f2abd0222",
        "part": "whole"
       },
       "id": "8b06ef90-4d07-4293-b81c-1f4d675190c3"
      }
     }
    },
    "3535a77a-ffb0-4e6d-b449-5d8db2fab35c": {
     "id": "3535a77a-ffb0-4e6d-b449-5d8db2fab35c",
     "prev": "3782fcd2-ee94-44b8-875d-10914b3666bb",
     "regions": {
      "aaeda7e7-8127-4c2d-9542-aa6819362c71": {
       "attrs": {
        "height": 0.8,
        "width": 0.8,
        "x": 0.1,
        "y": 0.1
       },
       "content": {
        "cell": "0ec93b45-8849-4039-bc05-270e8a7a3ea2",
        "part": "whole"
       },
       "id": "aaeda7e7-8127-4c2d-9542-aa6819362c71"
      }
     }
    },
    "3782fcd2-ee94-44b8-875d-10914b3666bb": {
     "id": "3782fcd2-ee94-44b8-875d-10914b3666bb",
     "prev": "3dd8a381-f0f3-4424-9b56-e8b05c90789c",
     "regions": {
      "03703ffd-9fa3-47b1-8af3-c7e235ebd4e1": {
       "attrs": {
        "height": 0.8,
        "width": 0.8,
        "x": 0.1,
        "y": 0.1
       },
       "content": {
        "cell": "95dd936c-c2f1-4453-80aa-f7da6c75427e",
        "part": "whole"
       },
       "id": "03703ffd-9fa3-47b1-8af3-c7e235ebd4e1"
      }
     }
    },
    "3dd8a381-f0f3-4424-9b56-e8b05c90789c": {
     "id": "3dd8a381-f0f3-4424-9b56-e8b05c90789c",
     "prev": "7f28657a-00ef-409f-8ae3-47f321ae6b39",
     "regions": {
      "9c92bbbe-e737-4a4a-8a9f-1022b4c33f52": {
       "attrs": {
        "height": 0.8,
        "width": 0.8,
        "x": 0.1,
        "y": 0.1
       },
       "content": {
        "cell": "5e2eb4a3-8530-4191-946f-2bcb42669cd8",
        "part": "whole"
       },
       "id": "9c92bbbe-e737-4a4a-8a9f-1022b4c33f52"
      }
     }
    },
    "4cb10dfb-0c6f-41dc-b423-fe6d631b6cdd": {
     "id": "4cb10dfb-0c6f-41dc-b423-fe6d631b6cdd",
     "prev": "2f5a310b-09c5-4233-89ed-d2d22a831356",
     "regions": {}
    },
    "707fb0be-5590-4ab1-90f9-12687917ceaa": {
     "id": "707fb0be-5590-4ab1-90f9-12687917ceaa",
     "prev": "3535a77a-ffb0-4e6d-b449-5d8db2fab35c",
     "regions": {
      "9e37c367-c2c5-48fa-ae05-36d107b7e374": {
       "attrs": {
        "height": 0.8,
        "width": 0.8,
        "x": 0.1,
        "y": 0.1
       },
       "content": {
        "cell": "56665ed2-91f6-4b73-985d-b0e518e68581",
        "part": "whole"
       },
       "id": "9e37c367-c2c5-48fa-ae05-36d107b7e374"
      }
     }
    },
    "7f28657a-00ef-409f-8ae3-47f321ae6b39": {
     "id": "7f28657a-00ef-409f-8ae3-47f321ae6b39",
     "prev": "b0f5777c-d0a3-432e-ae6b-01276754df48",
     "regions": {
      "7df02919-addb-4981-9040-3d03591a6710": {
       "attrs": {
        "height": 0.8,
        "width": 0.8,
        "x": 0.1,
        "y": 0.1
       },
       "content": {
        "cell": "eec37918-a528-434f-9d9f-4e3825ecb227",
        "part": "whole"
       },
       "id": "7df02919-addb-4981-9040-3d03591a6710"
      }
     }
    },
    "8ae0cfb1-ae06-4436-8eed-3e4360cecd30": {
     "id": "8ae0cfb1-ae06-4436-8eed-3e4360cecd30",
     "prev": "96907f97-4415-4924-8f94-f9f812152022",
     "regions": {
      "4c7fee66-72e0-455e-986a-d6c197dff9d9": {
       "attrs": {
        "height": 0.8,
        "width": 0.8,
        "x": 0.1,
        "y": 0.1
       },
       "content": {
        "cell": "770db60c-d968-4aad-92a0-cc235f61dfed",
        "part": "whole"
       },
       "id": "4c7fee66-72e0-455e-986a-d6c197dff9d9"
      }
     }
    },
    "908c709b-b73f-41a4-9711-7b3afe9fb9ea": {
     "id": "908c709b-b73f-41a4-9711-7b3afe9fb9ea",
     "prev": "8ae0cfb1-ae06-4436-8eed-3e4360cecd30",
     "regions": {
      "ae8469ce-1143-4f5d-a706-8ca790aae3a1": {
       "attrs": {
        "height": 0.8,
        "width": 0.8,
        "x": 0.1,
        "y": 0.1
       },
       "content": {
        "cell": "e01d72be-c2cd-41ef-9d8c-673d11cd7f64",
        "part": "whole"
       },
       "id": "ae8469ce-1143-4f5d-a706-8ca790aae3a1"
      }
     }
    },
    "96907f97-4415-4924-8f94-f9f812152022": {
     "id": "96907f97-4415-4924-8f94-f9f812152022",
     "prev": "4cb10dfb-0c6f-41dc-b423-fe6d631b6cdd",
     "regions": {}
    },
    "98559004-32c6-4e14-993d-b807e45d0e4a": {
     "id": "98559004-32c6-4e14-993d-b807e45d0e4a",
     "prev": "dc67fd57-145d-47b4-9b4b-dfd43f28d978",
     "regions": {
      "d48fdfba-d2f7-428c-8593-2b16030ae64e": {
       "attrs": {
        "height": 0.8,
        "width": 0.8,
        "x": 0.1,
        "y": 0.1
       },
       "content": {
        "cell": "67b3f78d-a684-4b1a-a561-59d6b98d3e54",
        "part": "whole"
       },
       "id": "d48fdfba-d2f7-428c-8593-2b16030ae64e"
      }
     }
    },
    "b0f5777c-d0a3-432e-ae6b-01276754df48": {
     "id": "b0f5777c-d0a3-432e-ae6b-01276754df48",
     "prev": "2aaf1088-7382-4117-b825-21b6f8c57e40",
     "regions": {
      "b414728e-69d1-4527-aa87-38df0d5aae4f": {
       "attrs": {
        "height": 0.8,
        "width": 0.8,
        "x": 0.1,
        "y": 0.1
       },
       "content": {
        "cell": "aa2ed5fd-3c8d-4a75-b961-c967d03b517f",
        "part": "whole"
       },
       "id": "b414728e-69d1-4527-aa87-38df0d5aae4f"
      }
     }
    },
    "dc67fd57-145d-47b4-9b4b-dfd43f28d978": {
     "id": "dc67fd57-145d-47b4-9b4b-dfd43f28d978",
     "prev": "707fb0be-5590-4ab1-90f9-12687917ceaa",
     "regions": {
      "d0c8ef59-cbc5-43fa-bbd1-105365a122c3": {
       "attrs": {
        "height": 0.8,
        "width": 0.8,
        "x": 0.1,
        "y": 0.1
       },
       "content": {
        "cell": "c6906427-b7aa-4532-96cd-5199cab49f8b",
        "part": "whole"
       },
       "id": "d0c8ef59-cbc5-43fa-bbd1-105365a122c3"
      }
     }
    }
   },
   "themes": {}
  }
 },
 "nbformat": 4,
 "nbformat_minor": 1
}
